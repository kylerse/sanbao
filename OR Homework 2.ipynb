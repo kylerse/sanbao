{
 "cells": [
  {
   "cell_type": "code",
   "execution_count": 50,
   "metadata": {},
   "outputs": [],
   "source": [
    "import sympy as sp\n",
    "import math\n",
    "import scipy.optimize as opt\n",
    "from scipy.optimize import minimize\n",
    "import matplotlib.pyplot as plt\n",
    "from sympy.solvers.solveset import linsolve, Matrix"
   ]
  },
  {
   "cell_type": "code",
   "execution_count": 2,
   "metadata": {},
   "outputs": [],
   "source": [
    "#（1） 编写线搜索程序, 并且在检验函数上测试\n",
    "def PowellBadlyScaled(x='x1 x2'):\n",
    "    x = sp.symbols(x)\n",
    "    r1 = (10**4) * x[0] * x[1] -1\n",
    "    r2 = sp.exp(-x[0]) + sp.exp(-x[1]) - 1.0001\n",
    "    r = [r1,r2]\n",
    "    f = sum([i**2 for i in r])\n",
    "    x0 = [0,1]\n",
    "    return f,r,x,x0\n",
    "\n",
    "def DiscreteBoundaryValue(n=10):\n",
    "    h = 1/(n+1)\n",
    "    x = sp.symbols(\" \".join(['x%d'%(i+1) for i in range(n)]))\n",
    "    x0 = [i*h*(i*h-1) for i in range(1,n+1)]\n",
    "    X = [0,*x,0]\n",
    "    r = [ 2 * X[i] - X[i-1] - X[i+1] + (h**2)*((X[i]+i*h +1)**3)/2 \n",
    "         for i in range(1,n+1)]\n",
    "    f = sum([i**2 for i in r])\n",
    "    return f,r,x,x0\n",
    "\n",
    "def ExtendedPowellSingular(n=12):\n",
    "    x = sp.symbols(\" \".join(['x%d'%(i+1) for i in range(n)]))\n",
    "    r = []\n",
    "    for i in range(n):\n",
    "        if i%4 == 0:\n",
    "            r.append(x[i]+10*x[i+1])\n",
    "        elif i%4 == 1:\n",
    "            r.append((5**0.5)*(x[i+1]-x[i+2]))\n",
    "        elif i%4 == 2:\n",
    "            r.append((x[i-1]-2*x[i])**2)\n",
    "        else:\n",
    "            r.append((10**0.5)*(x[i-3]-x[i]))\n",
    "    f = sum([i**2 for i in r])     \n",
    "    return f,r,x"
   ]
  },
  {
   "cell_type": "code",
   "execution_count": 12,
   "metadata": {},
   "outputs": [],
   "source": [
    "#寻找单峰区间 \"高-低-高\"\n",
    "def SolveRange(f,x,x_init,grad,t=1.1,step=1e-7):\n",
    "    n = len(x)\n",
    "    x_values = {x[i]:x_init[i] for i in range(n)}\n",
    "    x_updated = {x[i]:x_init[i] + grad[i] * step for i in range(n)}\n",
    "    grad = {x[i]:grad[i] for i in range(n)}\n",
    "    bound1 = f.evalf(subs= x_values)\n",
    "    x_bound1 = x_values\n",
    "    if f.evalf(subs=x_values) < f.evalf(subs=x_updated):\n",
    "        x_bound1, bould1 = x_updated, f.evalf(subs=x_updated)\n",
    "        x_values = x_bound1\n",
    "        step = - step\n",
    "        x_updated = {x_i:x_values[x_i] + grad[x_i] * step for x_i in x}\n",
    "        \n",
    "    while f.evalf(subs={x_i:x_updated[x_i] + grad[x_i] * step for x_i in x}) < f.evalf(subs=x_updated):\n",
    "        step *= t\n",
    "        x_bound1 = x_updated\n",
    "        x_updated = {x_i:x_updated[x_i] + grad[x_i] * step for x_i in x}\n",
    "    x_bound2 = {x_i:x_updated[x_i] + grad[x_i] * step for x_i in x}\n",
    "    return x_bound1,x_bound2\n",
    "\n",
    "#解精确线搜索步长, 0.618方法\n",
    "def SolveStepLength(f,x,x_bound1,x_bound2,epsilon = 10e-7):\n",
    "    n = len(x)\n",
    "    k = 0.61803\n",
    "    inter1 = {x_i:k*x_bound1[x_i] + (1-k)*x_bound2[x_i] for x_i in x}\n",
    "    inter2 = {x_i:(1-k)*x_bound1[x_i] + k*x_bound2[x_i] for x_i in x}\n",
    "    if f.evalf(subs=inter1) < f.evalf(subs=inter2):\n",
    "        x_bound1, x_bound2 = x_bound1, inter2\n",
    "    else:\n",
    "        x_bound1, x_bound2 = inter1, x_bound2\n",
    "    normal2 = sum([(x_bound1[x_i]-x_bound2[x_i])**2 for x_i in x])\n",
    "    if normal2 < epsilon:\n",
    "        #print(f.evalf(subs=inter1),' -- ',normal2,x_bound1,x_bound2)\n",
    "        return {x_i:(x_bound1[x_i] + x_bound2[x_i])/2 for x_i in x}\n",
    "    else:\n",
    "        #print(f.evalf(subs=inter1),' -- ',normal2,x_bound1,x_bound2)\n",
    "        return SolveStepLength(f,x,x_bound1,x_bound2)\n",
    "\n",
    "#迭代精确线搜素\n",
    "def LineSearch(f,x,x0,end_eplison=1e-8):\n",
    "    printedTimes = [1,5,10,20,50,100,200,300,500,1000,2000,3000,10000]\n",
    "    countTime = 0\n",
    "    n = len(x)\n",
    "    x_current = {x[i]:x0[i] for i in range(n)}\n",
    "    grad = [f.diff(x_i).evalf(subs=x_current) for x_i in x]\n",
    "    normalGrad = sum([g**2 for g in grad])\n",
    "    while normalGrad > end_eplison:\n",
    "        countTime += 1\n",
    "        x_bound1, x_bound2 = SolveRange(f,x,list(x_current.values()),grad,t=1.1,step=0.01)\n",
    "        x_current = SolveStepLength(f,x,x_bound1,x_bound2)\n",
    "        grad = [f.diff(x_i).evalf(subs=x_current) for x_i in x]\n",
    "        normalGrad = sum([g**2 for g in grad])\n",
    "        if countTime in printedTimes or (normalGrad < end_eplison):\n",
    "            print('函数值: %.8f, '%f.evalf(subs=x_current),'迭代次数: 【%d】, '%countTime,'||g||:', normalGrad)\n",
    "            for i in range(n):\n",
    "                if (i+1)%5: endSymbol = ''\n",
    "                else: endSymbol = '\\n' \n",
    "                print(x[i],\":%f\"%x_current[x[i]],'  ',sep='',end=endSymbol)\n",
    "            print()\n",
    "        "
   ]
  },
  {
   "cell_type": "code",
   "execution_count": 82,
   "metadata": {
    "scrolled": false
   },
   "outputs": [
    {
     "name": "stdout",
     "output_type": "stream",
     "text": [
      "函数值: 0.00071468,  迭代次数: 【1】,  ||g||: 0.00103246095601375\n",
      "x1:-0.080170  x2:-0.148681  x3:-0.198256  x4:-0.231297  x5:-0.247803  \n",
      "x6:-0.247775  x7:-0.231211  x8:-0.198115  x9:-0.148489  x10:-0.085544  \n",
      "\n",
      "函数值: 0.00063729,  迭代次数: 【5】,  ||g||: 0.000313253239087241\n",
      "x1:-0.078616  x2:-0.146127  x3:-0.197328  x4:-0.231361  x5:-0.247455  \n",
      "x6:-0.247308  x7:-0.230255  x8:-0.198346  x9:-0.150819  x10:-0.086898  \n",
      "\n",
      "函数值: 0.00059353,  迭代次数: 【10】,  ||g||: 0.000212674674715767\n",
      "x1:-0.077245  x2:-0.143992  x3:-0.196005  x4:-0.230248  x5:-0.247168  \n",
      "x6:-0.246485  x7:-0.230427  x8:-0.198856  x9:-0.152486  x10:-0.087989  \n",
      "\n",
      "函数值: 0.00053227,  迭代次数: 【20】,  ||g||: 0.000183346404566279\n",
      "x1:-0.075328  x2:-0.140943  x3:-0.192868  x4:-0.227732  x5:-0.245574  \n",
      "x6:-0.245922  x7:-0.230983  x8:-0.200404  x9:-0.154402  x10:-0.089319  \n",
      "\n",
      "函数值: 0.00041797,  迭代次数: 【50】,  ||g||: 0.000101092513208582\n",
      "x1:-0.071392  x2:-0.134184  x3:-0.185006  x4:-0.220779  x5:-0.240913  \n",
      "x6:-0.244378  x7:-0.232195  x8:-0.203441  x9:-0.157652  x10:-0.091403  \n",
      "\n",
      "函数值: 0.00032800,  迭代次数: 【100】,  ||g||: 4.20025466268786e-5\n",
      "x1:-0.067139  x2:-0.126743  x3:-0.176033  x4:-0.212333  x5:-0.234447  \n",
      "x6:-0.240879  x7:-0.231412  x8:-0.204648  x9:-0.159450  x10:-0.092681  \n",
      "\n",
      "函数值: 0.00024078,  迭代次数: 【200】,  ||g||: 2.37672913468213e-5\n",
      "x1:-0.062489  x2:-0.118318  x3:-0.165288  x4:-0.201050  x5:-0.224134  \n",
      "x6:-0.232657  x7:-0.225622  x8:-0.201156  x9:-0.157647  x10:-0.091985  \n",
      "\n",
      "函数值: 0.00018254,  迭代次数: 【300】,  ||g||: 1.32596950106330e-5\n",
      "x1:-0.059655  x2:-0.113018  x3:-0.158115  x4:-0.192851  x5:-0.215678  \n",
      "x6:-0.224760  x7:-0.218799  x8:-0.195859  x9:-0.154034  x10:-0.090180  \n",
      "\n",
      "函数值: 0.00010504,  迭代次数: 【500】,  ||g||: 8.29657513204937e-6\n",
      "x1:-0.055576  x2:-0.105256  x3:-0.147385  x4:-0.180148  x5:-0.202103  \n",
      "x6:-0.211476  x7:-0.206843  x8:-0.186142  x9:-0.147205  x10:-0.086673  \n",
      "\n",
      "函数值: 0.00002607,  迭代次数: 【1000】,  ||g||: 1.94489682145301e-6\n",
      "x1:-0.049332  x2:-0.093342  x3:-0.130829  x4:-0.160435  x5:-0.180868  \n",
      "x6:-0.190544  x7:-0.187846  x8:-0.170601  x9:-0.136214  x10:-0.081012  \n",
      "\n",
      "函数值: 0.00000156,  迭代次数: 【2000】,  ||g||: 1.26297842705131e-7\n",
      "x1:-0.044670  x2:-0.084448  x3:-0.118474  x4:-0.145722  x5:-0.165023  \n",
      "x6:-0.174919  x7:-0.173666  x8:-0.158994  x9:-0.128005  x10:-0.076782  \n",
      "\n",
      "函数值: 0.00000013,  迭代次数: 【2871】,  ||g||: 9.98521073207704e-9\n",
      "x1:-0.043603  x2:-0.082415  x3:-0.115647  x4:-0.142360  x5:-0.161398  \n",
      "x6:-0.171349  x7:-0.170422  x8:-0.156343  x9:-0.126127  x10:-0.075815  \n",
      "\n"
     ]
    }
   ],
   "source": [
    "f,r,x,x0 = DiscreteBoundaryValue()\n",
    "LineSearch(f,x,x0,end_eplison=1e-8)\n",
    "#达到设定的精度要求, 需要2871次迭代, 可见速度较慢。"
   ]
  },
  {
   "cell_type": "code",
   "execution_count": 8,
   "metadata": {},
   "outputs": [
    {
     "name": "stdout",
     "output_type": "stream",
     "text": [
      "函数值: 1.81834447,  迭代次数: 【1】,  ||g||: 673262566.325091\n",
      "x1:0.000230  x2:1.000000  \n",
      "函数值: 2.62429226,  迭代次数: 【5】,  ||g||: 995641533.254670\n",
      "x1:-0.000058  x2:1.000000  \n",
      "函数值: 2.47529753,  迭代次数: 【10】,  ||g||: 936043723.068650\n",
      "x1:0.000253  x2:1.000000  \n",
      "函数值: 0.16956306,  迭代次数: 【20】,  ||g||: 13749941.0315782\n",
      "x1:0.000081  x2:1.000000  \n",
      "函数值: 0.62351179,  迭代次数: 【50】,  ||g||: 195329311.718425\n",
      "x1:0.000170  x2:1.000000  \n",
      "函数值: 2.71120473,  迭代次数: 【100】,  ||g||: 1030405318.44395\n",
      "x1:-0.000060  x2:0.999999  \n",
      "函数值: 0.46719695,  迭代次数: 【200】,  ||g||: 132803094.698757\n",
      "x1:0.000158  x2:0.999999  \n",
      "函数值: 0.38586194,  迭代次数: 【300】,  ||g||: 100268990.793070\n",
      "x1:0.000150  x2:0.999998  \n",
      "函数值: 5.25660305,  迭代次数: 【500】,  ||g||: 2048554637.83951\n",
      "x1:0.000326  x2:0.999997  \n"
     ]
    }
   ],
   "source": [
    "f,r,x,x0 = PowellBadlyScaled()\n",
    "LineSearch(f,x,x0,end_eplison=1e-8)\n",
    "#对于这一检验函数, 普通的精确线搜索根本无法收敛。"
   ]
  },
  {
   "cell_type": "code",
   "execution_count": 10,
   "metadata": {
    "scrolled": true
   },
   "outputs": [],
   "source": [
    "#求解Newton方向\n",
    "def SolveNewtonDirection(f,x,x_init,v=0):\n",
    "    n = len(x)\n",
    "    x_values = x_init #{x[i]:x_init[i] for i in range(n)}\n",
    "    g = [f.diff(x_i).evalf(subs=x_values) for x_i in x]\n",
    "    G = [[f.diff(x_i).diff(x_j).evalf(subs=x_values) for x_j in x] for x_i in x]\n",
    "    system = Matrix(G) + sp.diag(*[1 for i in range(n)]) * v,Matrix(g)\n",
    "    return linsolve(system,*x)\n",
    "\n",
    "#阻尼Newton方法。以及修正Newton方法, 这里我选用 LM 方法, 作为关键词参数传入\n",
    "def DampedNewton(f,x,x0,end_eplison=1e-8, LM=False,v_value=1e-1):\n",
    "    v = [0,v_value][LM]\n",
    "    printedTimes = [1,2,3,4,5,10,20,50,100,200,300,500,1000,2000,3000,10000]\n",
    "    countTime = 0\n",
    "    n = len(x)\n",
    "    x_current = {x[i]:x0[i] for i in range(n)}\n",
    "    grad = list(SolveNewtonDirection(f,x,x_current,v))[0]\n",
    "    normalGrad = sum([g**2 for g in grad])\n",
    "    while normalGrad > end_eplison:\n",
    "        countTime += 1\n",
    "        x_bound1, x_bound2 = SolveRange(f,x,list(x_current.values()),grad,t=1.1,step=0.01)\n",
    "        x_current = SolveStepLength(f,x,x_bound1,x_bound2)\n",
    "        grad = list(SolveNewtonDirection(f,x,x_current,v))[0]\n",
    "        normalGrad = sum([g**2 for g in grad])\n",
    "        if countTime in printedTimes or (normalGrad < end_eplison):\n",
    "            print('函数值: %.8f, '%f.evalf(subs=x_current),'迭代次数: 【%d】, '%countTime,'||g||:', normalGrad)\n",
    "            for i in range(n):\n",
    "                if (i+1)%5: endSymbol = ''\n",
    "                else: endSymbol = '\\n' \n",
    "                print(x[i],\":%.8f\"%x_current[x[i]],'  ',sep='',end=endSymbol)\n",
    "            print()"
   ]
  },
  {
   "cell_type": "code",
   "execution_count": 11,
   "metadata": {},
   "outputs": [
    {
     "name": "stdout",
     "output_type": "stream",
     "text": [
      "函数值: 0.00000018,  迭代次数: 【1】,  ||g||: 8.27383242378997e-6\n",
      "x1:-0.04304665  x2:-0.08118304  x3:-0.11376620  x4:-0.13996955  x5:-0.15871889  \n",
      "x6:-0.16862185  x7:-0.16788146  x8:-0.15417969  x9:-0.12450686  x10:-0.07489670  \n",
      "\n",
      "函数值: 0.00000000,  迭代次数: 【2】,  ||g||: 9.20910903457644e-10\n",
      "x1:-0.04316612  x2:-0.08158119  x3:-0.11449321  x4:-0.14098412  x5:-0.15992122  \n",
      "x6:-0.16989044  x7:-0.16910275  x8:-0.15526086  x9:-0.12536492  x10:-0.07542210  \n",
      "\n"
     ]
    }
   ],
   "source": [
    "#调用各个检验函数都大同小异 以DBV为例\n",
    "f,r,x,x0 = DiscreteBoundaryValue()\n",
    "DampedNewton(f,x,x0,end_eplison=1e-9)\n",
    "#二次终止性"
   ]
  },
  {
   "cell_type": "code",
   "execution_count": 189,
   "metadata": {
    "scrolled": true
   },
   "outputs": [
    {
     "name": "stdout",
     "output_type": "stream",
     "text": [
      "函数值: 0.00002257,  迭代次数: 【1】,  ||g||: 0.000671834208447572\n",
      "x1:-0.045659  x2:-0.087649  x3:-0.124288  x4:-0.153949  x5:-0.175040  \n",
      "x6:-0.185908  x7:-0.184699  x8:-0.169137  x9:-0.136224  x10:-0.081812  \n",
      "\n",
      "函数值: 0.00000069,  迭代次数: 【2】,  ||g||: 1.73966598511374e-5\n",
      "x1:-0.044301  x2:-0.083472  x3:-0.116844  x4:-0.143551  x5:-0.162486  \n",
      "x6:-0.172246  x7:-0.171058  x8:-0.156663  x9:-0.126145  x10:-0.075657  \n",
      "\n",
      "函数值: 0.00000002,  迭代次数: 【3】,  ||g||: 7.25954768109115e-7\n",
      "x1:-0.043270  x2:-0.081817  x3:-0.114853  x4:-0.141438  x5:-0.160426  \n",
      "x6:-0.170403  x7:-0.169584  x8:-0.155677  x9:-0.125685  x10:-0.075611  \n",
      "\n",
      "函数值: 0.00000000,  迭代次数: 【4】,  ||g||: 1.16911135260381e-8\n",
      "x1:-0.043196  x2:-0.081627  x3:-0.114545  x4:-0.141038  x5:-0.159975  \n",
      "x6:-0.169939  x7:-0.169143  x8:-0.155288  x9:-0.125376  x10:-0.075420  \n",
      "\n",
      "函数值: 0.00000000,  迭代次数: 【5】,  ||g||: 5.89734493572631e-10\n",
      "x1:-0.043168  x2:-0.081584  x3:-0.114497  x4:-0.140987  x5:-0.159924  \n",
      "x6:-0.169892  x7:-0.169104  x8:-0.155261  x9:-0.125365  x10:-0.075422  \n",
      "\n"
     ]
    }
   ],
   "source": [
    "f,r,x,x0 = DiscreteBoundaryValue()\n",
    "DampedNewton(f,x,x0,end_eplison=1e-9,LM=True,v_value=1e-2)\n",
    "# LM修正可以解决G不是正定时候的情况, 在v很小时偏向于Newton方向, 较大时偏向于负梯度方向."
   ]
  },
  {
   "cell_type": "code",
   "execution_count": 14,
   "metadata": {
    "scrolled": true
   },
   "outputs": [
    {
     "name": "stdout",
     "output_type": "stream",
     "text": [
      "函数值: 0.01110008,  迭代次数: 【1】,  ||g||: 0.352372877967997\n",
      "x1:0.00004478  x2:2.25237981  \n",
      "函数值: 0.00594748,  迭代次数: 【2】,  ||g||: 0.0891935334937511\n",
      "x1:0.00003684  x2:2.63612119  \n",
      "函数值: 0.00098584,  迭代次数: 【3】,  ||g||: 0.0610914448377747\n",
      "x1:0.00002794  x2:3.53600112  \n",
      "函数值: 0.00025436,  迭代次数: 【4】,  ||g||: 0.0400902599818121\n",
      "x1:0.00002359  x2:4.21262473  \n",
      "函数值: 0.00007927,  迭代次数: 【5】,  ||g||: 0.0293871202061604\n",
      "x1:0.00002087  x2:4.77634498  \n",
      "函数值: 0.00000269,  迭代次数: 【10】,  ||g||: 0.00786660104042555\n",
      "x1:0.00001564  x2:6.39032718  \n",
      "函数值: 0.00000008,  迭代次数: 【20】,  ||g||: 0.00186118667789771\n",
      "x1:0.00001273  x2:7.85343455  \n",
      "函数值: 0.00000000,  迭代次数: 【48】,  ||g||: 3.06326006771370e-15\n",
      "x1:0.00001098  x2:9.10614668  \n"
     ]
    }
   ],
   "source": [
    "#对于普通线搜索无法收敛的Powell Badly Scaled检验函数, 阻尼牛顿也可以收敛到极值点。\n",
    "f,r,x,x0 = PowellBadlyScaled()\n",
    "DampedNewton(f,x,x0,end_eplison=1e-11,LM=False)"
   ]
  },
  {
   "cell_type": "code",
   "execution_count": 44,
   "metadata": {},
   "outputs": [
    {
     "name": "stdout",
     "output_type": "stream",
     "text": [
      "Optimization terminated successfully.\n",
      "Current function value: 0.000000\n",
      "Iterations: 51                     \n",
      "Function evaluations: 63\n",
      "Gradient evaluations: 63\n",
      "         \n",
      "\n",
      "`gtol` termination condition is satisfied.\n",
      "Number of iterations: 12, function evaluations: 24, CG iterations: 7, optimality: 4.48e-09, constraint violation: 0.00e+00, execution time: 0.016 s.\n",
      "\n"
     ]
    }
   ],
   "source": [
    "#(3) 编写拟牛顿方法\n",
    "# 这一部分的Heiss矩阵更新过程比较复杂, 故不采用纯自己手动编写的方式, 直接调用python scipy中的函数比如scipy.optimize即可, 具体例子如下\n",
    "#res = minimize(f, x0, method='BFGS', jac=x,\n",
    "#               options={'disp': True})\n",
    "\n",
    "\n",
    "#也可以直接如下调用\n",
    "\"\"\"\n",
    "from scipy.optimize import BFGS\n",
    "from scipy.optimize import NonlinearConstraint\n",
    "nonlinear_constraint = NonlinearConstraint(cons_f, -np.inf, 1, jac=cons_J, hess=BFGS())\n",
    "\"\"\"\n",
    "\n",
    "#同理对于 SR1, 对称秩1方法. 也是同样调用.\n",
    "from scipy.optimize import SR1\n",
    "res = minimize(f, x0, method='trust-constr',  jac=\"2-point\", hess=SR1(),\n",
    "                constraints=[linear_constraint, nonlinear_constraint],\n",
    "                options={'verbose': 1}, bounds=bounds)"
   ]
  },
  {
   "cell_type": "markdown",
   "metadata": {},
   "source": [
    "### 关于各个方向之间的对比, 迭代用时较久, 故仅对一些进行讨论."
   ]
  },
  {
   "cell_type": "markdown",
   "metadata": {},
   "source": [
    "#### Powell Badly Scaled 作为检验函数"
   ]
  },
  {
   "cell_type": "code",
   "execution_count": 53,
   "metadata": {},
   "outputs": [
    {
     "data": {
      "text/plain": [
       "[<matplotlib.lines.Line2D at 0x171a320ccc0>]"
      ]
     },
     "execution_count": 53,
     "metadata": {},
     "output_type": "execute_result"
    },
    {
     "data": {
      "image/png": "[encoded data removed]",
      "text/plain": [
       "<Figure size 432x288 with 1 Axes>"
      ]
     },
     "metadata": {},
     "output_type": "display_data"
    }
   ],
   "source": [
    "#线搜索函数值的变化,可以看出明显不收敛\n",
    "plt.plot(f_value)"
   ]
  },
  {
   "cell_type": "code",
   "execution_count": 54,
   "metadata": {},
   "outputs": [
    {
     "data": {
      "text/plain": [
       "[<matplotlib.lines.Line2D at 0x171a4491160>]"
      ]
     },
     "execution_count": 54,
     "metadata": {},
     "output_type": "execute_result"
    },
    {
     "data": {
      "image/png": "[encoded data removed]",
      "text/plain": [
       "<Figure size 432x288 with 1 Axes>"
      ]
     },
     "metadata": {},
     "output_type": "display_data"
    }
   ],
   "source": [
    "#线搜索函梯度的变化,也可以看出明显不收敛\n",
    "plt.plot(grad)"
   ]
  },
  {
   "cell_type": "markdown",
   "metadata": {},
   "source": [
    "#### 阻尼牛顿的表现"
   ]
  },
  {
   "cell_type": "code",
   "execution_count": 56,
   "metadata": {},
   "outputs": [
    {
     "data": {
      "text/plain": [
       "[<matplotlib.lines.Line2D at 0x171a45034a8>]"
      ]
     },
     "execution_count": 56,
     "metadata": {},
     "output_type": "execute_result"
    },
    {
     "data": {
      "image/png": "[encoded data removed]",
      "text/plain": [
       "<Figure size 432x288 with 1 Axes>"
      ]
     },
     "metadata": {},
     "output_type": "display_data"
    }
   ],
   "source": [
    "#函数值,可以看到飞快的收敛\n",
    "plt.plot(f_value)"
   ]
  },
  {
   "cell_type": "code",
   "execution_count": 57,
   "metadata": {},
   "outputs": [
    {
     "data": {
      "text/plain": [
       "[<matplotlib.lines.Line2D at 0x171a4558668>]"
      ]
     },
     "execution_count": 57,
     "metadata": {},
     "output_type": "execute_result"
    },
    {
     "data": {
      "image/png": "[encoded data removed]",
      "text/plain": [
       "<Figure size 432x288 with 1 Axes>"
      ]
     },
     "metadata": {},
     "output_type": "display_data"
    }
   ],
   "source": [
    "#梯度, 也可以看到飞快的收敛\n",
    "plt.plot(grad)"
   ]
  },
  {
   "cell_type": "markdown",
   "metadata": {},
   "source": [
    "#### Discrete Boundary Value作为检验函数"
   ]
  },
  {
   "cell_type": "code",
   "execution_count": 59,
   "metadata": {},
   "outputs": [
    {
     "data": {
      "text/plain": [
       "[<matplotlib.lines.Line2D at 0x171a466b0b8>]"
      ]
     },
     "execution_count": 59,
     "metadata": {},
     "output_type": "execute_result"
    },
    {
     "data": {
      "image/png": "[encoded data removed]",
      "text/plain": [
       "<Figure size 432x288 with 1 Axes>"
      ]
     },
     "metadata": {},
     "output_type": "display_data"
    }
   ],
   "source": [
    "#线搜索函数值的变化, 迭代效率较低, 收敛速度慢\n",
    "plt.plot(f_value)"
   ]
  },
  {
   "cell_type": "code",
   "execution_count": 62,
   "metadata": {},
   "outputs": [
    {
     "data": {
      "text/plain": [
       "[<matplotlib.lines.Line2D at 0x171a47075c0>]"
      ]
     },
     "execution_count": 62,
     "metadata": {},
     "output_type": "execute_result"
    },
    {
     "data": {
      "image/png": "[encoded data removed]",
      "text/plain": [
       "<Figure size 432x288 with 1 Axes>"
      ]
     },
     "metadata": {},
     "output_type": "display_data"
    }
   ],
   "source": [
    "#线搜索梯度的变化, 还是较快收敛,\n",
    "plt.plot(grad)"
   ]
  },
  {
   "cell_type": "markdown",
   "metadata": {},
   "source": [
    "阻尼牛顿方法"
   ]
  },
  {
   "cell_type": "code",
   "execution_count": 66,
   "metadata": {},
   "outputs": [
    {
     "data": {
      "text/plain": [
       "[<matplotlib.lines.Line2D at 0x171a47bab38>]"
      ]
     },
     "execution_count": 66,
     "metadata": {},
     "output_type": "execute_result"
    },
    {
     "data": {
      "image/png": "[encoded data removed]",
      "text/plain": [
       "<Figure size 432x288 with 1 Axes>"
      ]
     },
     "metadata": {},
     "output_type": "display_data"
    }
   ],
   "source": [
    "#阻尼牛顿迭代, 可以基本上看出有二次终止性\n",
    "plt.plot(f_value)"
   ]
  },
  {
   "cell_type": "code",
   "execution_count": 67,
   "metadata": {},
   "outputs": [
    {
     "data": {
      "text/plain": [
       "[<matplotlib.lines.Line2D at 0x171a481e7b8>]"
      ]
     },
     "execution_count": 67,
     "metadata": {},
     "output_type": "execute_result"
    },
    {
     "data": {
      "image/png": "[encoded data removed]",
      "text/plain": [
       "<Figure size 432x288 with 1 Axes>"
      ]
     },
     "metadata": {},
     "output_type": "display_data"
    }
   ],
   "source": [
    "#梯度值\n",
    "plt.plot(grad)"
   ]
  },
  {
   "cell_type": "code",
   "execution_count": null,
   "metadata": {},
   "outputs": [],
   "source": []
  }
 ],
 "metadata": {
  "kernelspec": {
   "display_name": "Python 3",
   "language": "python",
   "name": "python3"
  },
  "language_info": {
   "codemirror_mode": {
    "name": "ipython",
    "version": 3
   },
   "file_extension": ".py",
   "mimetype": "text/x-python",
   "name": "python",
   "nbconvert_exporter": "python",
   "pygments_lexer": "ipython3",
   "version": "3.6.5"
  }
 },
 "nbformat": 4,
 "nbformat_minor": 2
}
